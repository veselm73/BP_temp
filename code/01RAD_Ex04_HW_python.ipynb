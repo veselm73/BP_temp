{
  "cells": [
    {
      "cell_type": "markdown",
      "metadata": {
        "id": "view-in-github",
        "colab_type": "text"
      },
      "source": [
        "<a href=\"https://colab.research.google.com/github/veselm73/BP_temp/blob/main/code/01RAD_Ex04_HW_python.ipynb\" target=\"_parent\"><img src=\"https://colab.research.google.com/assets/colab-badge.svg\" alt=\"Open In Colab\"/></a>"
      ]
    },
    {
      "cell_type": "markdown",
      "metadata": {
        "id": "1e437db5"
      },
      "source": [
        "\n",
        "# 01RAD – Homework Assignment 01 (After Exercise 04)\n",
        "\n",
        "This homework guides you through data preparation, exploratory analysis, and simple linear regression using a housing market dataset.\n",
        "\n"
      ]
    },
    {
      "cell_type": "markdown",
      "metadata": {
        "id": "f65bd53f"
      },
      "source": [
        "\n",
        "## Conditions and grading\n",
        "\n",
        "- Work on the assignment individually or in Team. If you discuss specific questions with classmates, mention it in the corresponding answer.\n",
        "\n",
        "\n"
      ]
    },
    {
      "cell_type": "markdown",
      "metadata": {
        "id": "2ej6l7-Z9MvJ"
      },
      "source": [
        "\n",
        "## Submission\n",
        "\n",
        "Submit your work as a Jupyter notebook (`.ipynb`) runnable in Google Colab. Include your name at the top of the notebook. Deadline: **November 2nd  2025**.\n",
        "\n"
      ]
    },
    {
      "cell_type": "markdown",
      "metadata": {
        "id": "T9O0WiqW9H6_"
      },
      "source": [
        "\n",
        "## Dataset\n",
        "\n",
        "Use the CSV file hosted at:\n",
        "\n",
        "```\n",
        "https://raw.githubusercontent.com/francji1/01RAD/main/data/sarasota_houses_mod.csv\n",
        "```\n",
        "\n",
        "Load the data with `pandas.read_csv`. The table contains 1 057 houses from the Sarasota (FL) area. Columns:\n",
        "\n",
        "| column | description |\n",
        "| --- | --- |\n",
        "| `price` | sale price in USD |\n",
        "| `living_area` | interior living area in square feet |\n",
        "| `bathrooms` | number of bathrooms (can be fractional) |\n",
        "| `bedrooms` | number of bedrooms |\n",
        "| `fireplaces` | count of fireplaces |\n",
        "| `lot_size` | lot size in acres |\n",
        "| `age` | age of the house (years) |\n",
        "| `fireplace` | boolean indicator whether the house has at least one fireplace |\n",
        "\n",
        "You will convert the imperial units during the tasks below.\n",
        "\n"
      ]
    },
    {
      "cell_type": "markdown",
      "metadata": {
        "id": "UgpskaXd9Q8m"
      },
      "source": [
        "\n",
        "## Data preview\n",
        "\n"
      ]
    },
    {
      "cell_type": "code",
      "execution_count": null,
      "metadata": {
        "id": "k8XD6U_R9YUE"
      },
      "outputs": [],
      "source": [
        "# preview the dataset\n",
        "import pandas as pd\n",
        "\n",
        "url = \"https://raw.githubusercontent.com/francji1/01RAD/main/data/sarasota_houses_mod.csv\"\n",
        "houses = pd.read_csv(url)\n",
        "houses.head()\n"
      ]
    },
    {
      "cell_type": "code",
      "execution_count": null,
      "metadata": {
        "id": "SYPVgqkciy17"
      },
      "outputs": [],
      "source": [
        "# TODO: import required libraries and load the dataset into a pandas DataFrame named `houses`\n"
      ]
    },
    {
      "cell_type": "markdown",
      "metadata": {
        "id": "W3OFt9Wq9BWo"
      },
      "source": [
        "\n",
        "## Task 01 – Data audit\n",
        "\n",
        "Check whether the dataset contains missing values. If it does, discuss whether you can safely remove the affected observations. Identify which variables are quantitative and which are qualitative (categorical). If a variable could be treated either way, state your choice and rationale. Compute basic descriptive statistics for each variable.\n",
        "\n"
      ]
    },
    {
      "cell_type": "code",
      "execution_count": null,
      "metadata": {
        "id": "5LW54_7viy17"
      },
      "outputs": [],
      "source": [
        "\n",
        "### Suggested exchange rates and unit conversions\n",
        "\n",
        "# with an exchange rate of **1 USD = 23 CZK** and express the price in thousands of CZK.\n",
        "\n",
        "# Convert areas to square metres:\n",
        "#  - `living_area` (square feet) → multiply by **0.092903**.\n",
        "#  - `lot_size` (acres) → multiply by **4046.86**.\n",
        "\n",
        "\n"
      ]
    },
    {
      "cell_type": "code",
      "execution_count": null,
      "metadata": {
        "id": "rfglU873Xr44"
      },
      "outputs": [],
      "source": [
        "# TODO: Task 01"
      ]
    },
    {
      "cell_type": "markdown",
      "metadata": {
        "id": "07a085bd"
      },
      "source": [
        "\n",
        "## Task 02 – Unit conversion and filtering\n",
        "\n",
        "Create a cleaned subset of the data that satisfies all of the following:\n",
        "\n",
        "1. Convert `price` to thousands of CZK using the exchange rate given above.\n",
        "2. Convert `living_area` and `lot_size` to square metres.\n",
        "3. Keep only houses that are older than 10 years but not older than 50 years.\n",
        "4. Keep only houses with price below 7 500 CZK (in thousands), and lot size between 500 m² and 5 000 m².\n",
        "5. Convert `bathrooms` and `bedrooms` to categorical variables with three levels of your choice (justify the cut points in your report).\n",
        "\n",
        "Use this filtered dataset for the remaining tasks unless explicitly noted otherwise, and focus on these variables: `price_czk`, `living_area_m2`, `lot_size_m2`, `bedrooms_cat`, `bathrooms_cat`, `age`, `fireplace`.\n",
        "\n"
      ]
    },
    {
      "cell_type": "code",
      "execution_count": null,
      "metadata": {
        "id": "ff8d4e91",
        "tags": [
          "remove_input"
        ]
      },
      "outputs": [],
      "source": [
        "# TODO: Task 02"
      ]
    },
    {
      "cell_type": "markdown",
      "metadata": {
        "id": "VbFGPpNDMqe_"
      },
      "source": [
        "\n",
        "## Task 03 – Price comparison (fireplace vs no fireplace)\n",
        "\n",
        "Compare the mean price of houses with a fireplace to those without one. Test the hypothesis that houses with a fireplace have a higher mean price at the 1% significance level. Clearly state the hypotheses, the test statistic you use, its value, and your conclusion.\n",
        "\n"
      ]
    },
    {
      "cell_type": "markdown",
      "metadata": {
        "id": "b1cdb7fa"
      },
      "source": [
        "\n",
        "# Data visualisation\n",
        "\n",
        "## Task 04 – Exploratory plots\n",
        "\n",
        "- Draw scatter plots for each pair of numerical variables, using colour to indicate the presence of a fireplace (`fireplace`).\n",
        "- Plot boxplots (or violin plots) of `price_czk` against the categorical versions of `bedrooms`, `bathrooms`, and the boolean `fireplace` indicator.\n",
        "- Display a histogram of `price_czk` and overlay a kernel density estimate.\n",
        "\n"
      ]
    },
    {
      "cell_type": "markdown",
      "metadata": {
        "id": "cdbffc50",
        "lines_to_next_cell": 0
      },
      "source": [
        "\n",
        "## Task 05 – Combined categories\n",
        "\n",
        "For the combinations of `bedrooms_cat` and `bathrooms_cat`, visualise the distribution of `price_czk`. Ensure that the plot clearly shows which combinations exist in the filtered dataset and whether price levels differ across them.\n",
        "\n"
      ]
    },
    {
      "cell_type": "markdown",
      "metadata": {
        "id": "37583820",
        "lines_to_next_cell": 0
      },
      "source": [
        "\n",
        "## Task 06 – Focus on two-bedroom houses\n",
        "\n",
        "Restrict the data to houses with exactly two bedrooms (before categorisation). Plot `price_czk` against `living_area_m2`, colour the points by `fireplace`, and scale the point size according to the number of bathrooms (treat `bathrooms` as numeric for this plot).\n",
        "\n"
      ]
    },
    {
      "cell_type": "markdown",
      "metadata": {
        "id": "ebaQtBBORiig"
      },
      "source": [
        "\n",
        "**From this point on, continue working with the subset of two-bedroom houses unless a task specifies otherwise.**\n",
        "\n"
      ]
    },
    {
      "cell_type": "code",
      "execution_count": null,
      "metadata": {
        "id": "c4ba5f59",
        "tags": [
          "remove_input"
        ]
      },
      "outputs": [],
      "source": [
        "# TODO: Task 06"
      ]
    },
    {
      "cell_type": "markdown",
      "metadata": {
        "id": "51fc7cc4"
      },
      "source": [
        "\n",
        "# Simple linear regression\n",
        "\n"
      ]
    },
    {
      "cell_type": "markdown",
      "metadata": {
        "id": "354a8344",
        "lines_to_next_cell": 0
      },
      "source": [
        "\n",
        "## Task 07 – Simple regression (with and without intercept)\n",
        "\n",
        "Fit two linear models explaining `price_czk` by `living_area_m2`: one with an intercept and one without. Report $R^2$ and the $F$-statistic for both models. Choose the model you prefer and justify your choice. Using the selected model, answer whether price depends on living area and by how much the expected price changes if the living area increases by 20 m².\n",
        "\n"
      ]
    },
    {
      "cell_type": "code",
      "execution_count": null,
      "metadata": {
        "id": "vl0CuD4tDI8z"
      },
      "outputs": [],
      "source": [
        "# TODO: Task 07"
      ]
    },
    {
      "cell_type": "markdown",
      "metadata": {
        "id": "5ac2ca23"
      },
      "source": [
        "\n",
        "## Task 08 – Separate models by fireplace\n",
        "\n",
        "Fit the same simple regression separately for houses with a fireplace and without a fireplace. Which group exhibits a stronger linear relationship between price and living area? By how much does the slope differ between the two models? Compute 95% confidence intervals for the slopes and discuss whether they overlap. Estimate the percentage difference in expected price for a 160 m² house with a fireplace versus one without a fireplace.\n",
        "\n"
      ]
    },
    {
      "cell_type": "code",
      "execution_count": null,
      "metadata": {
        "id": "07ba8268",
        "tags": [
          "remove_input"
        ]
      },
      "outputs": [],
      "source": [
        "# TODO: Task 08"
      ]
    },
    {
      "cell_type": "markdown",
      "metadata": {
        "id": "11ed78d7",
        "lines_to_next_cell": 0
      },
      "source": [
        "\n",
        "## Task 09 – Visual comparison of models\n",
        "\n",
        "Create a scatter plot of `living_area_m2` versus `price_czk` showing the two fitted regression lines (with and without a fireplace). Add 90% confidence bands for the mean predictions. Use the plot to comment on whether expected prices differ for houses with living area below 120 m². Explain whether this comparison is appropriate.\n",
        "\n"
      ]
    },
    {
      "cell_type": "code",
      "execution_count": null,
      "metadata": {
        "id": "9ae5864a",
        "lines_to_next_cell": 2,
        "tags": [
          "remove_input"
        ]
      },
      "outputs": [],
      "source": [
        "# TODO: Task 09"
      ]
    },
    {
      "cell_type": "markdown",
      "metadata": {
        "id": "bfeecac9",
        "lines_to_next_cell": 0
      },
      "source": [
        "\n",
        "## Task 10 – Residual diagnostics\n",
        "\n",
        "Plot histograms of the residuals from the models in Task 09. Overlay the density of a normal distribution with mean zero and variance equal to the estimated $\\hat{\\sigma}^2$ of each model. Comment on the findings and suggest further model improvements. Plot corresponding QQ plots and  discuss them.\n",
        "\n"
      ]
    },
    {
      "cell_type": "code",
      "execution_count": null,
      "metadata": {
        "id": "c91c49d3",
        "lines_to_next_cell": 0,
        "tags": [
          "remove_input"
        ]
      },
      "outputs": [],
      "source": [
        "# TODO: Task 10"
      ]
    },
    {
      "cell_type": "markdown",
      "metadata": {
        "id": "4f28eff7"
      },
      "source": [
        "# Task\n",
        "Analyze the provided housing dataset (\"housing.csv\") to understand the factors influencing house prices. This involves data auditing, cleaning, transformation, exploratory data analysis through visualizations, and fitting linear regression models to predict house prices based on relevant features, including a comparison of models for houses with and without fireplaces. Finally, analyze the residuals of the fitted models."
      ]
    },
    {
      "cell_type": "markdown",
      "metadata": {
        "id": "e047ba78"
      },
      "source": [
        "## Task 01 - data audit\n",
        "\n",
        "### Subtask:\n",
        "Check for missing values, identify variable types, and compute descriptive statistics.\n"
      ]
    },
    {
      "cell_type": "markdown",
      "metadata": {
        "id": "8ccbfcdd"
      },
      "source": [
        "**Reasoning**:\n",
        "Check for missing values, print data types, and compute descriptive statistics as requested by the subtask instructions.\n",
        "\n"
      ]
    },
    {
      "cell_type": "code",
      "metadata": {
        "id": "e55d7a75"
      },
      "source": [
        "print(\"Missing values per column:\")\n",
        "print(houses.isnull().sum())\n",
        "\n",
        "print(\"\\nData types:\")\n",
        "houses.info()\n",
        "\n",
        "print(\"\\nDescriptive statistics:\")\n",
        "display(houses.describe())"
      ],
      "execution_count": null,
      "outputs": []
    },
    {
      "cell_type": "markdown",
      "metadata": {
        "id": "d5cdb6a7"
      },
      "source": [
        "## Task 02 - unit conversion and filtering\n",
        "\n",
        "### Subtask:\n",
        "Convert units and filter the dataset based on the specified criteria. Also, categorize `bathrooms` and `bedrooms`.\n"
      ]
    },
    {
      "cell_type": "markdown",
      "metadata": {
        "id": "29ad931a"
      },
      "source": [
        "**Reasoning**:\n",
        "Apply the unit conversions and filtering steps to the `houses` DataFrame to create the cleaned subset as specified in the instructions. Then, categorize the 'bedrooms' and 'bathrooms' columns and select the final set of columns.\n",
        "\n"
      ]
    },
    {
      "cell_type": "code",
      "metadata": {
        "id": "1dfac554"
      },
      "source": [
        "# 1. Convert price to thousands of CZK\n",
        "houses['price_czk'] = houses['price'] * 23 / 1000\n",
        "\n",
        "# 2. Convert living_area to square metres\n",
        "houses['living_area_m2'] = houses['living_area'] * 0.092903\n",
        "\n",
        "# 3. Convert lot_size to square metres\n",
        "houses['lot_size_m2'] = houses['lot_size'] * 4046.86\n",
        "\n",
        "# 4. Filter by age (older than 10 years but not older than 50)\n",
        "filtered_houses = houses[(houses['age'] >= 11) & (houses['age'] < 50)].copy()\n",
        "\n",
        "# 5. Filter by price and lot size\n",
        "filtered_houses = filtered_houses[(filtered_houses['price_czk'] < 7500) &\n",
        "                                  (filtered_houses['lot_size_m2'] >= 500) &\n",
        "                                  (filtered_houses['lot_size_m2'] <= 5000)].copy()\n",
        "\n",
        "# 6. Categorize bedrooms\n",
        "# Justification: Common sense groupings for bedrooms. 1-2 bedrooms are smaller, 3-4 are typical family homes, 5+ are larger homes.\n",
        "bins_bedrooms = [0, 2.5, 4.5, filtered_houses['bedrooms'].max() + 1]\n",
        "labels_bedrooms = ['1-2', '3-4', '5+']\n",
        "filtered_houses['bedrooms_cat'] = pd.cut(filtered_houses['bedrooms'], bins=bins_bedrooms, labels=labels_bedrooms, right=False, include_lowest=True)\n",
        "\n",
        "\n",
        "# 7. Categorize bathrooms\n",
        "# Justification: Groupings based on typical bathroom counts. 1 bathroom is standard, 1.5-2 covers full and half baths, 2.5+ covers multiple full baths.\n",
        "bins_bathrooms = [0, 1.25, 2.25, filtered_houses['bathrooms'].max() + 1]\n",
        "labels_bathrooms = ['1', '1.5-2', '2.5+']\n",
        "filtered_houses['bathrooms_cat'] = pd.cut(filtered_houses['bathrooms'], bins=bins_bathrooms, labels=labels_bathrooms, right=False, include_lowest=True)\n",
        "\n",
        "\n",
        "# 8. Select specified columns\n",
        "cleaned_houses = filtered_houses[['price_czk', 'living_area_m2', 'lot_size_m2', 'bedrooms_cat', 'bathrooms_cat', 'age', 'fireplace']]\n",
        "\n",
        "display(cleaned_houses.head())\n",
        "display(cleaned_houses.info())\n",
        "display(cleaned_houses.describe(include='all'))"
      ],
      "execution_count": null,
      "outputs": []
    },
    {
      "cell_type": "markdown",
      "metadata": {
        "id": "13093563"
      },
      "source": [
        "## Task 03 - price comparison\n",
        "\n",
        "### Subtask:\n",
        "Compare the mean price of houses with a fireplace to those without one. Test the hypothesis that houses with a fireplace have a higher mean price at the 1% significance level. Clearly state the hypotheses, the test statistic you use, its value, and your conclusion.\n"
      ]
    },
    {
      "cell_type": "code",
      "execution_count": null,
      "metadata": {
        "id": "wa11wNb6OoXI"
      },
      "outputs": [],
      "source": [
        "# TODO: Task 03\n",
        "\n",
        "from scipy import stats\n",
        "import statsmodels.formula.api as smf\n",
        "import statsmodels.api as sm\n",
        "\n",
        "\n",
        "# Separate data based on fireplace presence\n",
        "fireplace_yes = cleaned_houses[cleaned_houses['fireplace'] == True]['price_czk']\n",
        "fireplace_no = cleaned_houses[cleaned_houses['fireplace'] == False]['price_czk']\n",
        "\n",
        "# Calculate mean prices\n",
        "mean_price_yes = fireplace_yes.mean()\n",
        "mean_price_no = fireplace_no.mean()\n",
        "\n",
        "print(f\"Mean price with fireplace: {mean_price_yes:.2f} thousand CZK\")\n",
        "print(f\"Mean price without fireplace: {mean_price_no:.2f} thousand CZK\")\n",
        "\n",
        "# Perform independent samples t-test using statsmodels\n",
        "# Hypotheses:\n",
        "# H0: The mean price of houses with a fireplace is equal to the mean price of houses without a fireplace. (μ_yes = μ_no)\n",
        "# H1: The mean price of houses with a fireplace is higher than the mean price of houses without a fireplace. (μ_yes > μ_no)\n",
        "\n",
        "# Since statsmodels t-test is for equality of means, we can use it to get the t-statistic and p-value\n",
        "# for a two-sided test, and then adjust the p-value for a one-sided test if the mean of the 'yes' group is higher.\n",
        "ttest_result = stats.ttest_ind(fireplace_yes, fireplace_no, equal_var=False, alternative='greater') # Assuming unequal variances (Welch's t-test)\n",
        "\n",
        "t_statistic = ttest_result.statistic\n",
        "p_value = ttest_result.pvalue\n",
        "\n",
        "print(f\"\\nT-statistic: {t_statistic:.4f}\")\n",
        "print(f\"P-value: {p_value:.4f}\")\n",
        "\n",
        "# Significance level\n",
        "alpha = 0.01\n",
        "\n",
        "# Conclusion\n",
        "if p_value < alpha:\n",
        "    print(f\"\\nConclusion: Since the p-value ({p_value:.4f}) is less than the significance level ({alpha}), we reject the null hypothesis.\")\n",
        "    print(\"There is sufficient evidence to conclude that houses with a fireplace have a significantly higher mean price than houses without a fireplace.\")\n",
        "else:\n",
        "    print(f\"\\nConclusion: Since the p-value ({p_value:.4f}) is greater than the significance level ({alpha}), we fail to reject the null hypothesis.\")\n",
        "    print(\"There is not enough evidence to conclude that houses with a fireplace have a significantly higher mean price than houses without a fireplace.\")"
      ]
    },
    {
      "cell_type": "markdown",
      "metadata": {
        "id": "9f3e71e1"
      },
      "source": [
        "**Reasoning**:\n",
        "Separate the DataFrame by fireplace presence, calculate the mean price for each group, and perform an independent samples t-test to compare the means. State the hypotheses, test statistic, and conclusion based on the p-value and significance level.\n",
        "\n"
      ]
    },
    {
      "cell_type": "code",
      "execution_count": null,
      "metadata": {
        "id": "9c6a9986",
        "lines_to_next_cell": 2,
        "tags": [
          "remove_input"
        ]
      },
      "outputs": [],
      "source": [
        "# TODO: Task 04\n",
        "\n",
        "import matplotlib.pyplot as plt\n",
        "import seaborn as sns\n",
        "\n",
        "# Set plot style\n",
        "sns.set_theme(style=\"whitegrid\")\n",
        "\n",
        "# 1. Scatter plots for each pair of numerical variables, using colour to indicate fireplace\n",
        "numerical_vars = ['price_czk', 'living_area_m2', 'lot_size_m2', 'age']\n",
        "sns.pairplot(cleaned_houses, vars=numerical_vars, hue='fireplace', palette='viridis')\n",
        "plt.suptitle('Pairwise Scatter Plots of Numerical Variables by Fireplace', y=1.02)\n",
        "plt.show()\n",
        "\n",
        "\n",
        "# 2. Boxplots of price_czk against categorical variables\n",
        "categorical_vars = ['bedrooms_cat', 'bathrooms_cat', 'fireplace']\n",
        "\n",
        "for var in categorical_vars:\n",
        "    plt.figure(figsize=(8, 6))\n",
        "    if var == 'fireplace':\n",
        "        sns.boxplot(x=var, y='price_czk', data=cleaned_houses, palette='viridis', hue=var, legend=False)\n",
        "    else:\n",
        "        sns.boxplot(x=var, y='price_czk', data=cleaned_houses, palette='viridis', hue=var, legend=False)\n",
        "    plt.title(f'Boxplot of Price (CZK) by {var}')\n",
        "    plt.ylabel('Price (thousand CZK)')\n",
        "    plt.xlabel(var.replace('_cat', '').capitalize()) # Clean up labels\n",
        "    plt.show()\n",
        "\n",
        "\n",
        "# 3. Histogram of price_czk and overlay a kernel density estimate\n",
        "plt.figure(figsize=(8, 6))\n",
        "sns.histplot(cleaned_houses['price_czk'], kde=True, color='skyblue', bins=30)\n",
        "plt.title('Histogram and KDE of Price (thousand CZK)')\n",
        "plt.xlabel('Price (thousand CZK)')\n",
        "plt.ylabel('Frequency')\n",
        "plt.show()"
      ]
    },
    {
      "cell_type": "code",
      "execution_count": null,
      "metadata": {
        "id": "d5208964",
        "tags": [
          "remove_input"
        ]
      },
      "outputs": [],
      "source": [
        "# TODO: Task 05\n",
        "\n",
        "import matplotlib.pyplot as plt\n",
        "import seaborn as sns\n",
        "\n",
        "# Create a new column for combined categories\n",
        "cleaned_houses['bedroom_bathroom_combo'] = cleaned_houses['bedrooms_cat'].astype(str) + ' Bedrooms, ' + cleaned_houses['bathrooms_cat'].astype(str) + ' Bathrooms'\n",
        "\n",
        "# Order the combinations by median price for better visualization\n",
        "order = cleaned_houses.groupby('bedroom_bathroom_combo')['price_czk'].median().sort_values().index\n",
        "\n",
        "# Visualize the distribution of price_czk for each combination using boxplots\n",
        "plt.figure(figsize=(12, 8))\n",
        "sns.boxplot(x='price_czk', y='bedroom_bathroom_combo', data=cleaned_houses, order=order, palette='viridis')\n",
        "plt.title('Distribution of Price (thousand CZK) by Bedroom and Bathroom Combination')\n",
        "plt.xlabel('Price (thousand CZK)')\n",
        "plt.ylabel('Bedroom and Bathroom Combination')\n",
        "plt.tight_layout()\n",
        "plt.show()\n",
        "\n",
        "# Display the count of houses in each combination to show which exist\n",
        "print(\"Count of houses in each bedroom and bathroom combination:\")\n",
        "display(cleaned_houses['bedroom_bathroom_combo'].value_counts().sort_index())"
      ]
    }
  ],
  "metadata": {
    "colab": {
      "private_outputs": true,
      "provenance": [],
      "include_colab_link": true
    },
    "kernelspec": {
      "display_name": "Python 3",
      "name": "python3"
    },
    "language_info": {
      "codemirror_mode": {
        "name": "ipython",
        "version": 3
      },
      "file_extension": ".py",
      "mimetype": "text/x-python",
      "name": "python",
      "nbconvert_exporter": "python",
      "pygments_lexer": "ipython3",
      "version": "3.12.7"
    }
  },
  "nbformat": 4,
  "nbformat_minor": 0
}